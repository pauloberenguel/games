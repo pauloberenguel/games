{
 "cells": [
  {
   "cell_type": "markdown",
   "metadata": {},
   "source": [
    "## Importando Bibliotecas"
   ]
  },
  {
   "cell_type": "code",
   "execution_count": null,
   "metadata": {},
   "outputs": [],
   "source": [
    "import pandas as pd\n",
    "import matplotlib.pyplot as plt\n",
    "import seaborn as sns\n",
    "import numpy as np\n",
    "from plotnine import *\n",
    "import plotly.express as px\n",
    "import plotly.graph_objects as go\n",
    "from plotly.offline import iplot\n",
    "from plotly.subplots import make_subplots\n",
    "import warnings\n",
    "warnings.simplefilter(action='ignore')"
   ]
  },
  {
   "attachments": {},
   "cell_type": "markdown",
   "metadata": {},
   "source": [
    "## Leitura de Dados e Visualização de Conteúdo"
   ]
  },
  {
   "cell_type": "code",
   "execution_count": null,
   "metadata": {},
   "outputs": [],
   "source": [
    "df = pd.read_csv('games.csv')"
   ]
  },
  {
   "cell_type": "code",
   "execution_count": null,
   "metadata": {},
   "outputs": [],
   "source": [
    "df.head()"
   ]
  },
  {
   "cell_type": "code",
   "execution_count": null,
   "metadata": {},
   "outputs": [],
   "source": [
    "df.shape"
   ]
  },
  {
   "cell_type": "code",
   "execution_count": null,
   "metadata": {},
   "outputs": [],
   "source": [
    "df.dtypes"
   ]
  },
  {
   "cell_type": "code",
   "execution_count": null,
   "metadata": {},
   "outputs": [],
   "source": [
    "df['metascore'] = pd.to_numeric(df['metascore'],downcast='float')\n",
    "df['user_score'] = df['user_score'].str.replace('tbd', '')\n",
    "df['user_score'] = pd.to_numeric(df['user_score'],downcast='float') * 10"
   ]
  },
  {
   "cell_type": "code",
   "execution_count": null,
   "metadata": {},
   "outputs": [],
   "source": [
    "df['release_date'] = pd.to_datetime(df['release_date'])\n",
    "df['year'] = df['release_date'].dt.year\n",
    "df['age'] = 2023 - df['release_date'].dt.year"
   ]
  },
  {
   "cell_type": "code",
   "execution_count": null,
   "metadata": {},
   "outputs": [],
   "source": [
    "#salvando os dados do dataframe em um arquivo csv\n",
    "df.to_csv('games_analiseexpl.csv', index=False)"
   ]
  },
  {
   "attachments": {},
   "cell_type": "markdown",
   "metadata": {},
   "source": [
    "## Análise Exploratória de Dados / Visualização de Dados"
   ]
  },
  {
   "attachments": {},
   "cell_type": "markdown",
   "metadata": {},
   "source": [
    "Distribuição de valores"
   ]
  },
  {
   "cell_type": "code",
   "execution_count": null,
   "metadata": {},
   "outputs": [],
   "source": [
    "fig = make_subplots(rows=2, cols=2, subplot_titles=(\n",
    "    \"MetaScore\", \"UserScore\", \"Plataforma\", \"Idade\"))\n",
    "\n",
    "fig.add_trace(\n",
    "    go.Histogram(x=df['metascore'], name=\"nota críticos\"),\n",
    "    row=1, col=1\n",
    ")\n",
    "\n",
    "fig.add_trace(\n",
    "    go.Histogram(x=df['user_score'], name=\"nota players\"),\n",
    "    row=1, col=2\n",
    ")\n",
    "\n",
    "fig.add_trace(\n",
    "    go.Histogram(x=df['platform'], name=\"plataforma\",texttemplate=\"%{y}\", textfont_size=8),\n",
    "    row=2, col=1\n",
    ").update_xaxes(categoryorder='total descending')\n",
    "\n",
    "fig.add_trace(\n",
    "    go.Histogram(x=df['age'].astype(np.float64), name=\"idade (anos)\"),\n",
    "    row=2, col=2\n",
    ").update_xaxes(categoryorder='total descending')\n",
    "\n",
    "\n",
    "fig.update_layout(height=600, width=1200, title_text=\"Distribuição de notas\")\n",
    "fig.show()\n"
   ]
  },
  {
   "attachments": {},
   "cell_type": "markdown",
   "metadata": {},
   "source": [
    "Top 10 Jogos - Notas de Críticos"
   ]
  },
  {
   "cell_type": "code",
   "execution_count": null,
   "metadata": {},
   "outputs": [],
   "source": [
    "top_user_score = df.sort_values(['metascore'], ascending=False)[:10]\n",
    "top_user_score[['title','user_score','platform']]"
   ]
  },
  {
   "attachments": {},
   "cell_type": "markdown",
   "metadata": {},
   "source": [
    "Top 10 Jogos - Nota de usuários"
   ]
  },
  {
   "cell_type": "code",
   "execution_count": null,
   "metadata": {},
   "outputs": [],
   "source": [
    "top_user_score = df.sort_values(['user_score'], ascending=False)[:10]\n",
    "top_user_score[['title','user_score','platform']]"
   ]
  },
  {
   "attachments": {},
   "cell_type": "markdown",
   "metadata": {},
   "source": [
    "Geração com os melhores jogos"
   ]
  },
  {
   "cell_type": "code",
   "execution_count": null,
   "metadata": {},
   "outputs": [],
   "source": [
    "era = df\n",
    "era['release_date'] = pd.to_datetime(era['release_date'])\n",
    "era['year'] = df['release_date'].dt.year\n",
    "era1 =df.groupby('year')\n",
    "era2 = df.sort_values(['metascore'], ascending = False)\n",
    "era2[['year','metascore']]\n",
    "era2 =era.groupby('year')\n",
    "era2.head()\n",
    "era2['metascore'].sum().sort_values(ascending = False).reset_index()\n",
    "era3 = era2['metascore'].sum().sort_values(ascending = False).reset_index()\n",
    "era3.columns = [\"year\", \"Total\"] "
   ]
  },
  {
   "cell_type": "code",
   "execution_count": null,
   "metadata": {},
   "outputs": [],
   "source": [
    "sns.catplot(x=\"year\", y=\"Total\", kind=\"bar\", data=era3, height=6, aspect=3)\n",
    "plt.title(\"Year that had the best video games ( Popularity ) \")\n",
    "plt.xlabel('Year')\n",
    "plt.ylabel(\"Popularity of Video Games \")\n",
    "plt.grid(True)"
   ]
  },
  {
   "attachments": {},
   "cell_type": "markdown",
   "metadata": {},
   "source": [
    "Média de MetaScore por Plataforma"
   ]
  },
  {
   "cell_type": "code",
   "execution_count": null,
   "metadata": {},
   "outputs": [],
   "source": [
    "mean_by_platform = df \\\n",
    "    .groupby('platform', as_index = False) \\\n",
    "    .agg({'metascore' : 'mean'}) \\\n",
    "    .rename(columns = {'metascore' : 'avg_meta_score'}) \\\n",
    "    .sort_values('avg_meta_score', ascending = False)\n",
    "mean_by_platform['avg_meta_score'] = round(mean_by_platform['avg_meta_score'], 2)\n",
    "\n",
    "fig = go.Figure(data=[go.Bar(\n",
    "            x = mean_by_platform['platform'], \n",
    "            y = mean_by_platform['avg_meta_score'],\n",
    "            text = mean_by_platform['avg_meta_score'],\n",
    "            marker_color = '#A6ACEC',\n",
    "            textposition = 'outside',\n",
    "            textfont_color = 'black',\n",
    "            textfont_size = 8,\n",
    "            textfont_family = 'Arial'\n",
    "        )])\n",
    "\n",
    "fig.update_layout(\n",
    "    title = dict(\n",
    "        y = 0.93,\n",
    "        text ='Média de nota de críticos por plataforma',\n",
    "        font = dict(\n",
    "            color = 'black',\n",
    "            size = 26,\n",
    "            family = 'Arial')),\n",
    "    plot_bgcolor = 'white',\n",
    "    paper_bgcolor = 'white',\n",
    "    showlegend = False)\n",
    "\n",
    "fig.update_xaxes(showgrid = False, \n",
    "                 showline = True,\n",
    "                 color = 'black',\n",
    "                 tickangle = -90,\n",
    "                 linecolor = 'black',\n",
    "                 tickfont = dict(\n",
    "                     color = 'black',\n",
    "                     family = 'Arial')) \n",
    "\n",
    "fig.update_yaxes(visible = False)\n",
    "\n",
    "fig.show()"
   ]
  },
  {
   "cell_type": "code",
   "execution_count": null,
   "metadata": {},
   "outputs": [],
   "source": [
    "mean_by_year = df \\\n",
    "    .groupby('year', as_index = False) \\\n",
    "    .agg({'metascore' : 'mean'}) \\\n",
    "    .rename(columns = {'metascore' : 'mean'})\n",
    "\n",
    "fig = go.Figure(data=go.Scatter(x = mean_by_year['year'], \n",
    "                                y = mean_by_year['mean'],\n",
    "                                mode = 'lines+markers',\n",
    "                                marker = dict(\n",
    "                                    color = 'black',\n",
    "                                    size = 10),\n",
    "                                line = dict(\n",
    "                                    color = '#A6ACEC',\n",
    "                                    width = 3)))\n",
    "fig.add_shape(type = 'line',\n",
    "              x0 = mean_by_year['year'].min(), y0 = round(mean_by_year['mean'].mean()), \n",
    "              x1 = mean_by_year['year'].max(), y1 = round(mean_by_year['mean'].mean()),\n",
    "              line=dict(\n",
    "                  color = 'crimson',\n",
    "                  width = 2,\n",
    "                  dash = 'dot'))\n",
    "\n",
    "fig.add_vrect(\n",
    "    x0 = 1999, \n",
    "    x1= 2009,\n",
    "    y1 = 0.92,\n",
    "    fillcolor = 'crimson', \n",
    "    opacity = 0.1,\n",
    "    layer = 'below', \n",
    "    line_width=0,\n",
    ")\n",
    "\n",
    "fig.add_annotation(\n",
    "    showarrow = False,\n",
    "    x = 2004,\n",
    "    y = 96,\n",
    "    text = \n",
    "f''' Período em que houve crescimento de número de jogos lançados por ano''',\n",
    "    font = dict(\n",
    "        size = 13, \n",
    "        color = 'black', \n",
    "        family = 'Arial'),\n",
    "    bordercolor = 'black',\n",
    "    align = 'left',\n",
    "    borderwidth = 0,\n",
    "    borderpad = 1,\n",
    "    bgcolor = 'white',\n",
    "    opacity = 0.8\n",
    "  )\n",
    "\n",
    "fig.update_layout(\n",
    "    title = dict(\n",
    "    text = 'Média de nota de críticos por ano de lançamento',\n",
    "    font = dict(\n",
    "        color = 'black',\n",
    "        size = 26,\n",
    "        family = 'Arial')),\n",
    "    plot_bgcolor = 'white',\n",
    "    paper_bgcolor = 'white',\n",
    "    showlegend = False)\n",
    "fig.update_xaxes(showgrid = True, \n",
    "                 gridwidth = 1, \n",
    "                 gridcolor = '#DCDCDC', \n",
    "                 showline = True,\n",
    "                 color = 'black',\n",
    "                 linecolor = 'black',\n",
    "                 tickfont = dict(\n",
    "                     color = 'black',\n",
    "                     family = 'Arial')) \n",
    "fig.update_yaxes(showgrid = True, \n",
    "                 gridwidth = 1,\n",
    "                 gridcolor = '#DCDCDC',\n",
    "                 showline = True,\n",
    "                 color = 'black',\n",
    "                 linecolor = 'black',\n",
    "                 rangemode = 'tozero',\n",
    "                 tickfont = dict(\n",
    "                     color = 'black',\n",
    "                     family = 'Arial'))\n",
    "fig.show()"
   ]
  },
  {
   "cell_type": "code",
   "execution_count": null,
   "metadata": {},
   "outputs": [],
   "source": [
    "fig = px.scatter(df, x = df['user_score'], y = df['metascore'], trendline = 'ols')\n",
    "fig.data[1].marker.color = '#A6ACEC'\n",
    "fig.data[1].line.color = 'crimson'\n",
    "fig.data[1].line.width = 3\n",
    "fig.update_layout(\n",
    "    title = dict(\n",
    "    text = 'Razão de nota de jogadores vs nota de críticos',\n",
    "    font = dict(\n",
    "        color = 'black',\n",
    "        size = 26,\n",
    "        family = 'Arial')),\n",
    "    plot_bgcolor = 'white',\n",
    "    paper_bgcolor = 'white',\n",
    "    showlegend = False)\n",
    "\n",
    "fig.update_xaxes(\n",
    "                 title = 'nota de jogadores',\n",
    "                 showgrid = True, \n",
    "                 gridwidth = 1, \n",
    "                 gridcolor = '#DCDCDC', \n",
    "                 showline = True,\n",
    "                 color = 'black',\n",
    "                 linecolor = 'black',\n",
    "                 tickfont = dict(\n",
    "                     color = 'black',\n",
    "                     family = 'Arial')) \n",
    "fig.update_yaxes(\n",
    "                 title = 'nota de críticos',\n",
    "                 showgrid = True, \n",
    "                 gridwidth = 1,\n",
    "                 gridcolor = '#DCDCDC',\n",
    "                 showline = True,\n",
    "                 color = 'black',\n",
    "                 linecolor = 'black',\n",
    "                 rangemode = 'tozero',\n",
    "                 tickfont = dict(\n",
    "                     color = 'black',\n",
    "                     family = 'Arial'))\n",
    "fig.show()"
   ]
  },
  {
   "cell_type": "code",
   "execution_count": null,
   "metadata": {},
   "outputs": [],
   "source": [
    "fig = go.Figure()\n",
    "\n",
    "fig.add_trace(go.Scatter(x = [1995, 2025], \n",
    "                                y = [1, 1],\n",
    "                                mode = 'lines',\n",
    "                                marker = dict(\n",
    "                                    color = '#A6ACEC')))\n",
    "fig.add_trace(go.Scatter(x = [2000, 2005, 2013, 2020], \n",
    "                                y = [1, 1, 1, 1],\n",
    "                                mode = 'markers',\n",
    "                                marker = dict(\n",
    "                                    color = 'crimson',\n",
    "                                    size = 10)))\n",
    "\n",
    "fig.add_annotation(    \n",
    "    x = 1997.5,\n",
    "    y = 1,\n",
    "    text = 'era_1',\n",
    "    yanchor = 'bottom',\n",
    "    arrowhead = 5,\n",
    "    arrowwidth = 1,\n",
    "    arrowcolor = 'black',\n",
    "    ax = 0,\n",
    "    ay = -20,\n",
    "    font = dict(\n",
    "        size = 12, \n",
    "        color = 'black', \n",
    "        family = 'Arial'),\n",
    "    bordercolor='black',\n",
    "    align= 'center',\n",
    "    borderwidth = 1,\n",
    "    borderpad = 4,\n",
    "    bgcolor = '#badbda'\n",
    "  )\n",
    "\n",
    "fig.add_annotation(    \n",
    "    x = 2002.5,\n",
    "    y = 1,\n",
    "    text = 'era_2',\n",
    "    yanchor = 'bottom',\n",
    "    arrowhead = 5,\n",
    "    arrowwidth = 1,\n",
    "    arrowcolor = 'black',\n",
    "    ax = 0,\n",
    "    ay = -20,\n",
    "    font = dict(\n",
    "        size = 12, \n",
    "        color = 'black', \n",
    "        family = 'Arial'),\n",
    "    bordercolor='black',\n",
    "    align= 'center',\n",
    "    borderwidth = 1,\n",
    "    borderpad = 4,\n",
    "    bgcolor = '#badbda'\n",
    "  )\n",
    "\n",
    "fig.add_annotation(    \n",
    "    x = 2008.5,\n",
    "    y = 1,\n",
    "    text = 'era_3',\n",
    "    yanchor = 'bottom',\n",
    "    arrowhead = 5,\n",
    "    arrowwidth = 1,\n",
    "    arrowcolor = 'black',\n",
    "    ax = 0,\n",
    "    ay = -20,\n",
    "    font = dict(\n",
    "        size = 12, \n",
    "        color = 'black', \n",
    "        family = 'Arial'),\n",
    "    bordercolor='black',\n",
    "    align= 'center',\n",
    "    borderwidth = 1,\n",
    "    borderpad = 4,\n",
    "    bgcolor = '#badbda'\n",
    "  )\n",
    "\n",
    "fig.add_annotation(    \n",
    "    x = 2016.5,\n",
    "    y = 1,\n",
    "    text = 'era_4',\n",
    "    yanchor = 'bottom',\n",
    "    arrowhead = 5,\n",
    "    arrowwidth = 1,\n",
    "    arrowcolor = 'black',\n",
    "    ax = 0,\n",
    "    ay = -20,\n",
    "    font = dict(\n",
    "        size = 12, \n",
    "        color = 'black', \n",
    "        family = 'Arial'),\n",
    "    bordercolor='black',\n",
    "    align= 'center',\n",
    "    borderwidth = 1,\n",
    "    borderpad = 4,\n",
    "    bgcolor = '#badbda'\n",
    "  )\n",
    "fig.add_annotation(    \n",
    "    x = 2022.5,\n",
    "    y = 1,\n",
    "    text = 'era_5',\n",
    "    yanchor = 'bottom',\n",
    "    arrowhead = 5,\n",
    "    arrowwidth = 1,\n",
    "    arrowcolor = 'black',\n",
    "    ax = 0,\n",
    "    ay = -20,\n",
    "    font = dict(\n",
    "        size = 12, \n",
    "        color = 'black', \n",
    "        family = 'Arial'),\n",
    "    bordercolor='black',\n",
    "    align= 'center',\n",
    "    borderwidth = 1,\n",
    "    borderpad = 4,\n",
    "    bgcolor = '#badbda'\n",
    "  )\n",
    "\n",
    "fig.update_layout(title = dict(\n",
    "    text ='As eras dos vídeo-games',\n",
    "    font = dict(\n",
    "        color = 'black',\n",
    "        size = 26,\n",
    "        family = 'Arial')),\n",
    "    plot_bgcolor = 'white',\n",
    "    paper_bgcolor = 'white',\n",
    "    showlegend = False)\n",
    "fig.update_xaxes(showgrid = True, \n",
    "                 gridwidth = 1, \n",
    "                 gridcolor = '#DCDCDC', \n",
    "                 showline = True,\n",
    "                 color = 'black',\n",
    "                 linecolor = 'black',\n",
    "                 dtick = 1,\n",
    "                 tickangle = -60,\n",
    "                 tickfont = dict(\n",
    "                     color = 'black',\n",
    "                     family = 'Arial')) \n",
    "fig.update_yaxes(showgrid = True, \n",
    "                 gridwidth = 1,\n",
    "                 gridcolor = '#DCDCDC',\n",
    "                 showline = True,\n",
    "                 color = 'black',\n",
    "                 linecolor = 'black',\n",
    "                 tickfont = dict(\n",
    "                     color = 'white',\n",
    "                     family = 'Arial'))\n",
    "fig.show()"
   ]
  },
  {
   "cell_type": "code",
   "execution_count": null,
   "metadata": {},
   "outputs": [],
   "source": [
    "def era(data):\n",
    "    if 1995 <= data <= 1999:\n",
    "        x = 'era_1'\n",
    "    elif 2000 <= data <= 2004:\n",
    "        x = 'era_2'\n",
    "    elif 2005 <= data <= 2012:\n",
    "        x = 'era_3'\n",
    "    elif 2013 <= data <= 2019:\n",
    "        x = 'era_4'\n",
    "    else:\n",
    "        x = 'era_5'\n",
    "    return x\n",
    "df['era'] = df['year'].apply(era)\n",
    "\n",
    "era_avg = df \\\n",
    "    .groupby('era', as_index = False) \\\n",
    "    .agg({'metascore' : 'mean'}) \\\n",
    "    .rename(columns = {'metascore' : 'avg_meta_score'})\n",
    "era_avg['avg_meta_score'] = round(era_avg['avg_meta_score'], 2)\n",
    "\n",
    "fig = go.Figure(data=[go.Bar(\n",
    "            x = era_avg['era'], \n",
    "            y = era_avg['avg_meta_score'],\n",
    "            text = era_avg['avg_meta_score'],\n",
    "            marker_color = '#A6ACEC',\n",
    "            textposition = 'outside',\n",
    "            textfont_color = 'black',\n",
    "            textfont_size = 12,\n",
    "            textfont_family = 'Arial'\n",
    "        )])\n",
    "\n",
    "fig.update_layout(title = dict(\n",
    "    text ='Média de nota de críticos por era',\n",
    "    font = dict(\n",
    "        color = 'black',\n",
    "        size = 26,\n",
    "        family = 'Arial')),\n",
    "    plot_bgcolor = 'white',\n",
    "    paper_bgcolor = 'white',\n",
    "    showlegend = False)\n",
    "\n",
    "fig.update_xaxes(showgrid = False, \n",
    "                 showline = True,\n",
    "                 color = 'black',\n",
    "                 linecolor = 'black',\n",
    "                 tickfont = dict(\n",
    "                     color = 'black',\n",
    "                     family = 'Arial'),\n",
    "                 dtick = 1) \n",
    "\n",
    "fig.update_yaxes(visible = False)\n",
    "\n",
    "fig.show()\n"
   ]
  },
  {
   "attachments": {},
   "cell_type": "markdown",
   "metadata": {},
   "source": [
    "## Preparação de Dados"
   ]
  },
  {
   "attachments": {},
   "cell_type": "markdown",
   "metadata": {},
   "source": [
    "Correlação de Variáveis"
   ]
  },
  {
   "cell_type": "code",
   "execution_count": null,
   "metadata": {},
   "outputs": [],
   "source": [
    "corr = df.corr()\n",
    "sns.set_context(\"notebook\", font_scale=1.0, rc={\"lines.linewidth\": 2.5})\n",
    "plt.figure(figsize=(6,3))\n",
    "mask = np.zeros_like(corr)\n",
    "mask[np.triu_indices_from(mask, 1)] = True\n",
    "a = sns.heatmap(corr,mask=mask, annot=True, fmt='.2f')\n",
    "rotx = a.set_xticklabels(a.get_xticklabels(), rotation=90)\n",
    "roty = a.set_yticklabels(a.get_yticklabels(), rotation=30)"
   ]
  },
  {
   "attachments": {},
   "cell_type": "markdown",
   "metadata": {},
   "source": [
    "Checagem de duplicados"
   ]
  },
  {
   "cell_type": "code",
   "execution_count": null,
   "metadata": {},
   "outputs": [],
   "source": [
    "df['id'].duplicated().sum()"
   ]
  },
  {
   "attachments": {},
   "cell_type": "markdown",
   "metadata": {},
   "source": [
    "Remoção de Colunas"
   ]
  },
  {
   "cell_type": "code",
   "execution_count": null,
   "metadata": {},
   "outputs": [],
   "source": [
    "df.drop(columns=['release_date','sort_no','summary','title','id'],axis=1,inplace=True)"
   ]
  },
  {
   "attachments": {},
   "cell_type": "markdown",
   "metadata": {},
   "source": [
    "Remoção de NaNs"
   ]
  },
  {
   "cell_type": "code",
   "execution_count": null,
   "metadata": {},
   "outputs": [],
   "source": [
    "df.isna().sum()"
   ]
  },
  {
   "cell_type": "code",
   "execution_count": null,
   "metadata": {},
   "outputs": [],
   "source": [
    "# Optado manter as entradas sem user score, copiando o metascore para o mesmo\n",
    "df['user_score'].fillna(df['metascore'],inplace=True)\n",
    "df.isna().sum()"
   ]
  },
  {
   "cell_type": "code",
   "execution_count": null,
   "metadata": {},
   "outputs": [],
   "source": [
    "df['platform'].value_counts()"
   ]
  },
  {
   "cell_type": "code",
   "execution_count": null,
   "metadata": {},
   "outputs": [],
   "source": [
    "#categorizando os valores de metascore\n",
    "df['binned_metascore']=pd.cut(df['metascore'], bins=[0,40,60,80,100], right=True, labels=False)+1"
   ]
  },
  {
   "cell_type": "code",
   "execution_count": null,
   "metadata": {},
   "outputs": [],
   "source": [
    "#criando novas colunas para transformar os valores categóricos de 'platform' (plataforma)\n",
    "#em valores numéricos\n",
    "df = pd.get_dummies(data = df, columns=['platform'], prefix=['platform'], drop_first=True)"
   ]
  },
  {
   "cell_type": "code",
   "execution_count": null,
   "metadata": {},
   "outputs": [],
   "source": [
    "df.to_csv('games_com_notabinada.csv', index=False)"
   ]
  },
  {
   "attachments": {},
   "cell_type": "markdown",
   "metadata": {},
   "source": [
    "## Engenharia de Recursos"
   ]
  },
  {
   "cell_type": "code",
   "execution_count": null,
   "metadata": {},
   "outputs": [],
   "source": [
    "list(df.columns)"
   ]
  },
  {
   "cell_type": "code",
   "execution_count": null,
   "metadata": {},
   "outputs": [],
   "source": [
    "#escolhendo as colunas do dataframe que serão nossos valores de entrada para o modelo\n",
    "X=pd.DataFrame(columns=['user_score','age','platform_DS','platform_Dreamcast',\n",
    "                        'platform_Game Boy Advance','platform_GameCube','platform_Nintendo 64','platform_PC','platform_PSP',\n",
    "                        'platform_PlayStation','platform_PlayStation 2','platform_PlayStation 3',\n",
    "                        'platform_PlayStation 4','platform_PlayStation 5',\n",
    "                        'platform_PlayStation Vita','platform_Stadia','platform_Switch',\n",
    "                        'platform_Wii','platform_Wii U','platform_Xbox',\n",
    "                        'platform_Xbox 360','platform_Xbox One','platform_Xbox Series X',],data=df)"
   ]
  },
  {
   "cell_type": "code",
   "execution_count": null,
   "metadata": {},
   "outputs": [],
   "source": [
    "#escolhendo a(s) coluna(s) do dataframe que serão a resposta do modelo\n",
    "y = pd.DataFrame(columns=['binned_metascore'], data=df)"
   ]
  },
  {
   "cell_type": "code",
   "execution_count": null,
   "metadata": {},
   "outputs": [],
   "source": [
    "#importando o pacote de divisão dos dados em treinamento e teste\n",
    "from sklearn.model_selection import train_test_split"
   ]
  },
  {
   "cell_type": "code",
   "execution_count": null,
   "metadata": {},
   "outputs": [],
   "source": [
    "#dividindo os dados em treinamento e teste\n",
    "X_train, X_test, y_train, y_test = train_test_split(X, y, test_size=0.3, random_state=42)"
   ]
  },
  {
   "cell_type": "code",
   "execution_count": null,
   "metadata": {},
   "outputs": [],
   "source": [
    "#normalizando os dados\n",
    "from sklearn.preprocessing import StandardScaler\n",
    "sc_X = StandardScaler()\n",
    "X_train = sc_X.fit_transform(X_train)\n",
    "X_test = sc_X.transform(X_test)"
   ]
  },
  {
   "attachments": {},
   "cell_type": "markdown",
   "metadata": {},
   "source": [
    "# **Machine Learning**"
   ]
  },
  {
   "cell_type": "code",
   "execution_count": null,
   "metadata": {},
   "outputs": [],
   "source": [
    "#importando, configurando e treinando o modelo de regressão \n",
    "from sklearn.linear_model import LogisticRegression\n",
    "logit =LogisticRegression(verbose=0, max_iter=1000)\n",
    "logit.fit(X_train,np.ravel(y_train,order='C'))\n",
    "y_pred=logit.predict(X_test)"
   ]
  },
  {
   "cell_type": "code",
   "execution_count": null,
   "metadata": {},
   "outputs": [],
   "source": [
    "#verificando os valores preditos\n",
    "y_pred"
   ]
  },
  {
   "cell_type": "code",
   "execution_count": null,
   "metadata": {},
   "outputs": [],
   "source": [
    "#importando o pacote de métricas e calculando a matriz de confusão\n",
    "from sklearn import metrics\n",
    "cnf_matrix =  metrics.confusion_matrix(y_test, y_pred)\n",
    "print(cnf_matrix)"
   ]
  },
  {
   "cell_type": "code",
   "execution_count": null,
   "metadata": {},
   "outputs": [],
   "source": [
    "#verificando quantos valores existem de cada categoria em 'binned_metascore'\n",
    "df['binned_metascore'].value_counts()"
   ]
  },
  {
   "cell_type": "code",
   "execution_count": null,
   "metadata": {},
   "outputs": [],
   "source": [
    "#métricas finais\n",
    "print(metrics.classification_report(y_test, y_pred, target_names=['1','2', '3', '4']))"
   ]
  },
  {
   "cell_type": "code",
   "execution_count": null,
   "metadata": {},
   "outputs": [],
   "source": [
    "#importação do pacote para salvar o modelo\n",
    "import pickle"
   ]
  },
  {
   "cell_type": "code",
   "execution_count": null,
   "metadata": {},
   "outputs": [],
   "source": [
    "#definindo em qual caminho vamos salvar o modelo\n",
    "modelo_treinado = 'modelo_games.sav'"
   ]
  },
  {
   "cell_type": "code",
   "execution_count": null,
   "metadata": {},
   "outputs": [],
   "source": [
    "#salvando o modelo\n",
    "pickle.dump(logit, open(modelo_treinado, 'wb'))"
   ]
  },
  {
   "cell_type": "code",
   "execution_count": null,
   "metadata": {},
   "outputs": [],
   "source": [
    "#carregando o modelo treinado\n",
    "modelo_carregado = pickle.load(open(modelo_treinado, 'rb'))"
   ]
  },
  {
   "cell_type": "code",
   "execution_count": null,
   "metadata": {},
   "outputs": [],
   "source": [
    "#Olhando o conteúdo de um vetor de teste\n",
    "X_test[0]"
   ]
  },
  {
   "cell_type": "code",
   "execution_count": null,
   "metadata": {},
   "outputs": [],
   "source": [
    "#fazendo predição do novo dado com o modelo carregado\n",
    "modelo_carregado.predict([X_test[222]])"
   ]
  }
 ],
 "metadata": {
  "kernelspec": {
   "display_name": "Python 3",
   "language": "python",
   "name": "python3"
  },
  "language_info": {
   "codemirror_mode": {
    "name": "ipython",
    "version": 3
   },
   "file_extension": ".py",
   "mimetype": "text/x-python",
   "name": "python",
   "nbconvert_exporter": "python",
   "pygments_lexer": "ipython3",
   "version": "3.10.7"
  },
  "orig_nbformat": 4,
  "vscode": {
   "interpreter": {
    "hash": "7d301e993b21968a4641f4b5ef120da95cc7993199e0250222ac299c881dccbe"
   }
  }
 },
 "nbformat": 4,
 "nbformat_minor": 2
}
